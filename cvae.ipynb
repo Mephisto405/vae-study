{
 "cells": [
  {
   "cell_type": "code",
   "execution_count": 1,
   "metadata": {},
   "outputs": [],
   "source": [
    "import torch\n",
    "import torch.nn as nn\n",
    "import torch.optim as optim\n",
    "from torchvision import datasets, transforms\n",
    "from torch.utils.data import DataLoader, random_split\n",
    "from tqdm import tqdm\n",
    "import matplotlib.pyplot as plt\n",
    "import random\n",
    "import numpy as np\n",
    "\n",
    "torch.set_default_device(\"cuda\")\n",
    "\n",
    "seed = 404\n",
    "random.seed(seed)\n",
    "np.random.seed(seed)\n",
    "torch.manual_seed(seed)\n",
    "torch.cuda.manual_seed_all(seed)\n",
    "torch.backends.cudnn.deterministic = True\n",
    "torch.backends.cudnn.benchmark = False\n",
    "generator = torch.Generator(\"cuda\").manual_seed(seed)\n",
    "\n",
    "# 1. MNIST 데이터셋 다운로드 및 전처리\n",
    "transform = transforms.ToTensor()\n",
    "mnist_dataset = datasets.MNIST(root='./data', train=True, transform=transform, download=True)\n",
    "train_size = int(0.8 * len(mnist_dataset))\n",
    "val_size = len(mnist_dataset) - train_size\n",
    "train_dataset, val_dataset = random_split(mnist_dataset, [train_size, val_size], generator)\n",
    "train_loader = DataLoader(train_dataset, batch_size=64, shuffle=True, generator=generator)\n",
    "val_loader = DataLoader(val_dataset, batch_size=64, shuffle=False, generator=generator)"
   ]
  },
  {
   "cell_type": "code",
   "execution_count": 2,
   "metadata": {},
   "outputs": [],
   "source": [
    "# 2. MLP 모델 정의 (원-핫 레이블을 이미지로 디코딩)\n",
    "class LabelToImageMLP(nn.Module):\n",
    "    def __init__(self):\n",
    "        super(LabelToImageMLP, self).__init__()\n",
    "        self.model = nn.Sequential(\n",
    "            nn.Linear(10, 128),\n",
    "            nn.ReLU(),\n",
    "            nn.Linear(128, 256),\n",
    "            nn.ReLU(),\n",
    "            nn.Linear(256, 512),\n",
    "            nn.ReLU(),\n",
    "            nn.Linear(512, 28 * 28),\n",
    "            nn.Sigmoid()\n",
    "        )\n",
    "    \n",
    "    def forward(self, x):\n",
    "        return self.model(x)\n",
    "\n",
    "# 모델 인스턴스화 및 손실 함수, 옵티마이저 정의\n",
    "model = LabelToImageMLP()\n",
    "\n",
    "# 2. Conditional VAE 모델 정의\n",
    "class ConditionalVAE(nn.Module):\n",
    "    def __init__(self, pretrained_model):\n",
    "        super(ConditionalVAE, self).__init__()\n",
    "        self.encoder = nn.Sequential(\n",
    "            nn.Linear(28 * 28 + 10, 128),  # 28*28 (image) + 10 (one-hot label)\n",
    "            nn.ReLU(),\n",
    "            nn.Linear(128, 64),\n",
    "            nn.ReLU()\n",
    "        )\n",
    "        self.fc_mu = nn.Linear(64, 10)\n",
    "        self.fc_logvar = nn.Linear(64, 10)\n",
    "        self.decoder = pretrained_model\n",
    "    \n",
    "    def encode(self, x, labels):\n",
    "        x = torch.cat([x, labels], dim=1)\n",
    "        h = self.encoder(x)\n",
    "        return self.fc_mu(h), self.fc_logvar(h)\n",
    "    \n",
    "    def reparameterize(self, mu, logvar):\n",
    "        std = torch.exp(0.5 * logvar)\n",
    "        eps = torch.randn_like(std)\n",
    "        return mu + eps * std\n",
    "    \n",
    "    def decode(self, z, labels):\n",
    "        z = 0.1 * z + labels\n",
    "        return self.decoder(z)\n",
    "    \n",
    "    def forward(self, x, labels):\n",
    "        mu, logvar = self.encode(x, labels)\n",
    "        z = self.reparameterize(mu, logvar)\n",
    "        return self.decode(z, labels), mu, logvar\n",
    "\n",
    "# Conditional VAE 모델 인스턴스화 및 손실 함수, 옵티마이저 정의\n",
    "cvae_model = ConditionalVAE(model)\n",
    "optimizer = optim.Adam(cvae_model.parameters(), lr=0.001)\n",
    "\n",
    "def loss_function(recon_x, x, mu, logvar):\n",
    "    BCE = nn.functional.binary_cross_entropy(recon_x, x, reduction='sum')\n",
    "    KLD = -0.5 * torch.sum(1 + logvar - mu.pow(2) - logvar.exp())\n",
    "    return BCE + KLD"
   ]
  },
  {
   "cell_type": "code",
   "execution_count": 3,
   "metadata": {},
   "outputs": [
    {
     "name": "stderr",
     "output_type": "stream",
     "text": [
      "Epoch 1/20: 100%|██████████| 750/750 [00:07<00:00, 101.19it/s]\n"
     ]
    },
    {
     "name": "stdout",
     "output_type": "stream",
     "text": [
      "Epoch [1/20], Train Loss: 166.2067, Val Loss: 138.9189\n"
     ]
    },
    {
     "name": "stderr",
     "output_type": "stream",
     "text": [
      "Epoch 2/20: 100%|██████████| 750/750 [00:07<00:00, 103.27it/s]\n"
     ]
    },
    {
     "name": "stdout",
     "output_type": "stream",
     "text": [
      "Epoch [2/20], Train Loss: 130.8018, Val Loss: 125.2127\n"
     ]
    },
    {
     "name": "stderr",
     "output_type": "stream",
     "text": [
      "Epoch 3/20: 100%|██████████| 750/750 [00:07<00:00, 104.76it/s]\n"
     ]
    },
    {
     "name": "stdout",
     "output_type": "stream",
     "text": [
      "Epoch [3/20], Train Loss: 122.2635, Val Loss: 119.7233\n"
     ]
    },
    {
     "name": "stderr",
     "output_type": "stream",
     "text": [
      "Epoch 4/20: 100%|██████████| 750/750 [00:07<00:00, 103.01it/s]\n"
     ]
    },
    {
     "name": "stdout",
     "output_type": "stream",
     "text": [
      "Epoch [4/20], Train Loss: 117.5773, Val Loss: 116.0572\n"
     ]
    },
    {
     "name": "stderr",
     "output_type": "stream",
     "text": [
      "Epoch 5/20: 100%|██████████| 750/750 [00:07<00:00, 104.61it/s]\n"
     ]
    },
    {
     "name": "stdout",
     "output_type": "stream",
     "text": [
      "Epoch [5/20], Train Loss: 114.3589, Val Loss: 113.2791\n"
     ]
    },
    {
     "name": "stderr",
     "output_type": "stream",
     "text": [
      "Epoch 6/20: 100%|██████████| 750/750 [00:07<00:00, 107.08it/s]\n"
     ]
    },
    {
     "name": "stdout",
     "output_type": "stream",
     "text": [
      "Epoch [6/20], Train Loss: 112.2543, Val Loss: 111.7996\n"
     ]
    },
    {
     "name": "stderr",
     "output_type": "stream",
     "text": [
      "Epoch 7/20: 100%|██████████| 750/750 [00:07<00:00, 106.75it/s]\n"
     ]
    },
    {
     "name": "stdout",
     "output_type": "stream",
     "text": [
      "Epoch [7/20], Train Loss: 110.6723, Val Loss: 110.3061\n"
     ]
    },
    {
     "name": "stderr",
     "output_type": "stream",
     "text": [
      "Epoch 8/20: 100%|██████████| 750/750 [00:07<00:00, 106.10it/s]\n"
     ]
    },
    {
     "name": "stdout",
     "output_type": "stream",
     "text": [
      "Epoch [8/20], Train Loss: 109.2863, Val Loss: 108.7844\n"
     ]
    },
    {
     "name": "stderr",
     "output_type": "stream",
     "text": [
      "Epoch 9/20: 100%|██████████| 750/750 [00:07<00:00, 106.51it/s]\n"
     ]
    },
    {
     "name": "stdout",
     "output_type": "stream",
     "text": [
      "Epoch [9/20], Train Loss: 108.2317, Val Loss: 108.9321\n"
     ]
    },
    {
     "name": "stderr",
     "output_type": "stream",
     "text": [
      "Epoch 10/20: 100%|██████████| 750/750 [00:06<00:00, 107.47it/s]\n"
     ]
    },
    {
     "name": "stdout",
     "output_type": "stream",
     "text": [
      "Epoch [10/20], Train Loss: 107.2896, Val Loss: 107.6089\n"
     ]
    },
    {
     "name": "stderr",
     "output_type": "stream",
     "text": [
      "Epoch 11/20: 100%|██████████| 750/750 [00:07<00:00, 106.96it/s]\n"
     ]
    },
    {
     "name": "stdout",
     "output_type": "stream",
     "text": [
      "Epoch [11/20], Train Loss: 106.5651, Val Loss: 106.7280\n"
     ]
    },
    {
     "name": "stderr",
     "output_type": "stream",
     "text": [
      "Epoch 12/20: 100%|██████████| 750/750 [00:07<00:00, 105.67it/s]\n"
     ]
    },
    {
     "name": "stdout",
     "output_type": "stream",
     "text": [
      "Epoch [12/20], Train Loss: 105.8901, Val Loss: 106.6235\n"
     ]
    },
    {
     "name": "stderr",
     "output_type": "stream",
     "text": [
      "Epoch 13/20: 100%|██████████| 750/750 [00:07<00:00, 106.41it/s]\n"
     ]
    },
    {
     "name": "stdout",
     "output_type": "stream",
     "text": [
      "Epoch [13/20], Train Loss: 105.2043, Val Loss: 105.9527\n"
     ]
    },
    {
     "name": "stderr",
     "output_type": "stream",
     "text": [
      "Epoch 14/20: 100%|██████████| 750/750 [00:07<00:00, 106.76it/s]\n"
     ]
    },
    {
     "name": "stdout",
     "output_type": "stream",
     "text": [
      "Epoch [14/20], Train Loss: 104.5644, Val Loss: 104.7990\n"
     ]
    },
    {
     "name": "stderr",
     "output_type": "stream",
     "text": [
      "Epoch 15/20: 100%|██████████| 750/750 [00:06<00:00, 107.23it/s]\n"
     ]
    },
    {
     "name": "stdout",
     "output_type": "stream",
     "text": [
      "Epoch [15/20], Train Loss: 103.9156, Val Loss: 104.7415\n"
     ]
    },
    {
     "name": "stderr",
     "output_type": "stream",
     "text": [
      "Epoch 16/20: 100%|██████████| 750/750 [00:07<00:00, 105.69it/s]\n"
     ]
    },
    {
     "name": "stdout",
     "output_type": "stream",
     "text": [
      "Epoch [16/20], Train Loss: 103.3290, Val Loss: 104.0018\n"
     ]
    },
    {
     "name": "stderr",
     "output_type": "stream",
     "text": [
      "Epoch 17/20: 100%|██████████| 750/750 [00:07<00:00, 106.80it/s]\n"
     ]
    },
    {
     "name": "stdout",
     "output_type": "stream",
     "text": [
      "Epoch [17/20], Train Loss: 102.8817, Val Loss: 103.8684\n"
     ]
    },
    {
     "name": "stderr",
     "output_type": "stream",
     "text": [
      "Epoch 18/20: 100%|██████████| 750/750 [00:07<00:00, 106.29it/s]\n"
     ]
    },
    {
     "name": "stdout",
     "output_type": "stream",
     "text": [
      "Epoch [18/20], Train Loss: 102.3623, Val Loss: 103.2008\n"
     ]
    },
    {
     "name": "stderr",
     "output_type": "stream",
     "text": [
      "Epoch 19/20: 100%|██████████| 750/750 [00:07<00:00, 107.07it/s]\n"
     ]
    },
    {
     "name": "stdout",
     "output_type": "stream",
     "text": [
      "Epoch [19/20], Train Loss: 101.9825, Val Loss: 103.0652\n"
     ]
    },
    {
     "name": "stderr",
     "output_type": "stream",
     "text": [
      "Epoch 20/20: 100%|██████████| 750/750 [00:07<00:00, 106.05it/s]\n"
     ]
    },
    {
     "name": "stdout",
     "output_type": "stream",
     "text": [
      "Epoch [20/20], Train Loss: 101.6848, Val Loss: 102.9841\n"
     ]
    }
   ],
   "source": [
    "# 3. 일정 epoch 동안 모델 학습\n",
    "num_epochs = 20\n",
    "train_losses = []\n",
    "val_losses = []\n",
    "\n",
    "def one_hot(labels, num_classes):\n",
    "    return torch.eye(num_classes)[labels].cuda()\n",
    "\n",
    "for epoch in range(num_epochs):\n",
    "    cvae_model.train()\n",
    "    train_loss = 0\n",
    "    for data, labels in tqdm(train_loader, desc=f\"Epoch {epoch+1}/{num_epochs}\"):\n",
    "        labels_one_hot = one_hot(labels, 10)\n",
    "        data = data.view(-1, 28*28).cuda()\n",
    "        optimizer.zero_grad()\n",
    "        recon_batch, mu, logvar = cvae_model(data, labels_one_hot)\n",
    "        loss = loss_function(recon_batch, data, mu, logvar)\n",
    "        loss.backward()\n",
    "        optimizer.step()\n",
    "        train_loss += loss.item()\n",
    "    \n",
    "    train_loss /= len(train_loader.dataset)\n",
    "    train_losses.append(train_loss)\n",
    "    \n",
    "    cvae_model.eval()\n",
    "    val_loss = 0\n",
    "    with torch.no_grad():\n",
    "        for data, labels in val_loader:\n",
    "            labels_one_hot = one_hot(labels, 10)\n",
    "            data = data.view(-1, 28*28).cuda()\n",
    "            recon_batch, mu, logvar = cvae_model(data, labels_one_hot)\n",
    "            loss = loss_function(recon_batch, data, mu, logvar)\n",
    "            val_loss += loss.item()\n",
    "    \n",
    "    val_loss /= len(val_loader.dataset)\n",
    "    val_losses.append(val_loss)\n",
    "    \n",
    "    print(f\"Epoch [{epoch+1}/{num_epochs}], Train Loss: {train_loss:.4f}, Val Loss: {val_loss:.4f}\")"
   ]
  },
  {
   "cell_type": "code",
   "execution_count": 4,
   "metadata": {},
   "outputs": [
    {
     "data": {
      "image/png": "[encoded data removed]",
      "text/plain": [
       "<Figure size 640x480 with 1 Axes>"
      ]
     },
     "metadata": {},
     "output_type": "display_data"
    },
    {
     "data": {
      "image/png": "[encoded data removed]",
      "text/plain": [
       "<Figure size 700x1000 with 20 Axes>"
      ]
     },
     "metadata": {},
     "output_type": "display_data"
    }
   ],
   "source": [
    "# 4. 학습 종료 후 에러 그래프 시각화\n",
    "plt.figure()\n",
    "plt.plot(range(num_epochs), train_losses, label='Train Loss')\n",
    "plt.plot(range(num_epochs), val_losses, label='Validation Loss')\n",
    "plt.xlabel('Epoch')\n",
    "plt.ylabel('Loss')\n",
    "plt.legend()\n",
    "plt.title('Train and Validation Loss')\n",
    "plt.show()\n",
    "\n",
    "# 5. Validation set에서 몇 개의 레이블을 추출하여 원-핫 인코딩된 레이블을 통해 이미지를 생성하고 시각화\n",
    "cvae_model.eval()\n",
    "with torch.no_grad():\n",
    "    # Validation set의 오토인코딩 결과 시각화\n",
    "    data_iter = iter(val_loader)\n",
    "    data, labels = next(data_iter)\n",
    "    labels = one_hot(labels, 10)\n",
    "    recon_batch, mu, logvar = cvae_model(data.view(-1, 28*28).cuda(), labels)\n",
    "    \n",
    "    fig, axes = plt.subplots(5, 4, figsize=(7, 10))\n",
    "    axes[0, 0].set_title('Target Label')\n",
    "    axes[0, 1].set_title('Reconstructed from \\nthe Target Image')\n",
    "    for i in range(5):\n",
    "        axes[i, 0].imshow(data[i].view(28, 28).cpu().numpy(), cmap='gray')\n",
    "        axes[i, 0].axis('off')\n",
    "        \n",
    "        axes[i, 1].imshow(recon_batch[i].view(28, 28).cpu().numpy(), cmap='gray')\n",
    "        axes[i, 1].axis('off')\n",
    "    \n",
    "    # Gaussian noise와 label로 생성한 이미지 시각화\n",
    "    z = torch.randn(5, 10)\n",
    "    generated_images = cvae_model.decode(z, labels[:5])\n",
    "    axes[0, 2].set_title('Generated from \\nNoise and the Label')\n",
    "    for i in range(5):\n",
    "        axes[i, 2].imshow(generated_images[i].view(28, 28).cpu().numpy(), cmap='gray')\n",
    "        axes[i, 2].axis('off')\n",
    "\n",
    "    generated_images = cvae_model.decode(0.0 * z, labels[:5])\n",
    "    axes[0, 3].set_title('Generated from \\nthe Label solely')\n",
    "    for i in range(5):\n",
    "        axes[i, 3].imshow(generated_images[i].view(28, 28).cpu().numpy(), cmap='gray')\n",
    "        axes[i, 3].axis('off')\n",
    "    \n",
    "    plt.tight_layout()\n",
    "    plt.show()"
   ]
  }
 ],
 "metadata": {
  "kernelspec": {
   "display_name": "base",
   "language": "python",
   "name": "python3"
  },
  "language_info": {
   "codemirror_mode": {
    "name": "ipython",
    "version": 3
   },
   "file_extension": ".py",
   "mimetype": "text/x-python",
   "name": "python",
   "nbconvert_exporter": "python",
   "pygments_lexer": "ipython3",
   "version": "3.10.14"
  }
 },
 "nbformat": 4,
 "nbformat_minor": 2
}
